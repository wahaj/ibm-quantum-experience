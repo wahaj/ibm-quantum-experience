{
 "cells": [
  {
   "cell_type": "markdown",
   "metadata": {},
   "source": [
    "# Exercise 4: Circuit Decomposition\n",
    "Wow! If you managed to solve the first three exercises, congratulations! The fourth problem is supposed to puzzle even the quantum experts among you, so don’t worry if you cannot solve it. If you can, hats off to you!\n",
    "\n",
    "You may recall from your quantum mechanics course that quantum theory is unitary. Therefore, the evolution of any (closed) system can be described by a unitary. But given an arbitrary unitary, can you actually implement it on your quantum computer?\n",
    "\n",
    "**\"A set of quantum gates is said to be universal if any unitary transformation of the quantum data can be efficiently approximated arbitrarily well as a sequence of gates in the set.\"** (https://qiskit.org/textbook/ch-algorithms/defining-quantum-circuits.html)\n",
    "\n",
    "Every gate you run on the IBM Quantum Experience is transpiled into single qubit rotations and CNOT (CX) gates. We know that these constitute a universal gate set, which implies that any unitary can be implemented using only these gates. However, in general it is not easy to find a good decomposition for an arbitrary unitary. Your task is to find such a decomposition.\n",
    "\n",
    "You are given the following unitary:"
   ]
  },
  {
   "cell_type": "code",
   "execution_count": 63,
   "metadata": {
    "scrolled": false
   },
   "outputs": [
    {
     "name": "stdout",
     "output_type": "stream",
     "text": [
      "U has shape (16, 16)\n"
     ]
    }
   ],
   "source": [
    "from may4_challenge.ex4 import get_unitary\n",
    "U = get_unitary()\n",
    "print(\"U has shape\", U.shape)"
   ]
  },
  {
   "cell_type": "markdown",
   "metadata": {},
   "source": [
    "#### What circuit would make such a complicated unitary?\n",
    "\n",
    "Is there some symmetry, or is it random? We just updated Qiskit with the introduction of a quantum circuit library (https://github.com/Qiskit/qiskit-terra/tree/master/qiskit/circuit/library). This library gives users access to a rich set of well-studied circuit families, instances of which can be used as benchmarks (quantum volume), as building blocks in building more complex circuits (adders), or as tools to explore quantum computational advantage over classical computation (instantaneous quantum polynomial complexity circuits)."
   ]
  },
  {
   "cell_type": "code",
   "execution_count": 1,
   "metadata": {},
   "outputs": [],
   "source": [
    "from qiskit import QuantumCircuit\n",
    "from may4_challenge.ex4 import check_circuit, submit_circuit"
   ]
  },
  {
   "cell_type": "markdown",
   "metadata": {},
   "source": [
    "**Using only single qubit rotations and CNOT gates, find a quantum circuit that approximates that unitary $U$ by a unitary $V$ up to an error $\\varepsilon = 0.01$, such that $\\lVert U - V\\rVert_2 \\leq \\varepsilon$ !** \n",
    "\n",
    "Note that the norm we are using here is the spectral norm, $\\qquad \\lVert A \\rVert_2 = \\max_{\\lVert \\psi \\rVert_2= 1} \\lVert A \\psi \\rVert$.\n",
    "\n",
    "This can be seen as the largest scaling factor that the matrix $A$ has on any initial (normalized) state $\\psi$. One can show that this norm corresponds to the largest singular value of $A$, i.e., the square root of the largest eigenvalue of the matrix $A^\\dagger A$, where $A^{\\dagger}$ denotes the conjugate transpose of $A$.\n",
    "\n",
    "**When you submit a circuit, we remove the global phase of the corresponding unitary $V$ before comparing it with $U$ using the spectral norm. For example, if you submit a circuit that generates $V = \\text{e}^{i\\theta}U$, we remove the global phase $\\text{e}^{i\\theta}$ from $V$ before computing the norm, and you will have a successful submission. As a result, you do not have to worry about matching the desired unitary, $U$, up to a global phase.**\n",
    "\n",
    "As the single-qubit gates have a much higher fidelity than the two-qubit gates, we will look at the number of CNOT-gates, $n_{cx}$, and the number of u3-gates, $n_{u3}$, to determine the cost of your decomposition as \n",
    "\n",
    "$$\n",
    "\\qquad \\text{cost} = 10 \\cdot n_{cx} + n_{u3}\n",
    "$$\n",
    "\n",
    "Try to optimize the cost of your decomposition. \n",
    "\n",
    "**Note that you will need to ensure that your circuit is composed only of $u3$ and $cx$ gates. The exercise is considered correctly solved if your cost is smaller than 1600.**\n",
    "\n",
    "---\n",
    "For useful tips to complete this exercise as well as pointers for communicating with other participants and asking questions, please take a look at the following [repository](https://github.com/qiskit-community/may4_challenge_exercises). You will also find a copy of these exercises, so feel free to edit and experiment with these notebooks.\n",
    "\n",
    "---"
   ]
  },
  {
   "cell_type": "code",
   "execution_count": 135,
   "metadata": {},
   "outputs": [],
   "source": [
    "import numpy as np\n",
    "from may4_challenge import plot_state_qsphere\n",
    "from may4_challenge.ex1 import return_state, vec_in_braket, statevec\n",
    "\n",
    "from qiskit import Aer, QuantumCircuit, execute\n",
    "from qiskit.compiler import transpile, assemble\n",
    "from qiskit.visualization import plot_histogram\n",
    "from IPython.display import display, Math, Latex\n",
    "\n",
    "from math import pi\n",
    "\n",
    "from scipy.linalg import hadamard \n",
    "from sklearn.preprocessing import normalize"
   ]
  },
  {
   "cell_type": "code",
   "execution_count": 225,
   "metadata": {},
   "outputs": [
    {
     "name": "stdout",
     "output_type": "stream",
     "text": [
      "[[ 1.+0.j  1.+0.j  1.+0.j  1.+0.j  1.+0.j  1.+0.j  1.+0.j  1.+0.j  1.+0.j\n",
      "   1.+0.j  1.+0.j  1.+0.j  1.+0.j  1.+0.j  1.+0.j  1.+0.j]\n",
      " [ 1.+0.j -1.-0.j  1.+0.j -1.-0.j  1.+0.j -1.-0.j  1.+0.j -1.-0.j  1.+0.j\n",
      "  -1.-0.j  1.+0.j -1.-0.j  1.+0.j -1.-0.j  1.+0.j -1.-0.j]\n",
      " [ 1.+0.j  1.+0.j -1.-0.j -1.-0.j  1.+0.j  1.+0.j -1.-0.j -1.-0.j  1.+0.j\n",
      "   1.+0.j -1.-0.j -1.-0.j  1.+0.j  1.+0.j -1.-0.j -1.-0.j]\n",
      " [ 1.+0.j -1.-0.j -1.-0.j  1.+0.j  1.+0.j -1.-0.j -1.-0.j  1.+0.j  1.+0.j\n",
      "  -1.-0.j -1.-0.j  1.+0.j  1.+0.j -1.-0.j -1.-0.j  1.+0.j]\n",
      " [ 1.+0.j  1.+0.j  1.+0.j  1.+0.j -1.-0.j -1.-0.j -1.-0.j -1.-0.j  1.+0.j\n",
      "   1.+0.j  1.+0.j  1.+0.j -1.-0.j -1.-0.j -1.-0.j -1.-0.j]\n",
      " [ 1.+0.j -1.-0.j  1.+0.j -1.-0.j -1.-0.j  1.+0.j -1.-0.j  1.+0.j  1.+0.j\n",
      "  -1.-0.j  1.+0.j -1.-0.j -1.-0.j  1.+0.j -1.-0.j  1.+0.j]\n",
      " [ 1.+0.j  1.+0.j -1.-0.j -1.-0.j -1.-0.j -1.-0.j  1.+0.j  1.+0.j  1.+0.j\n",
      "   1.+0.j -1.-0.j -1.-0.j -1.-0.j -1.-0.j  1.+0.j  1.+0.j]\n",
      " [ 1.+0.j -1.-0.j -1.-0.j  1.+0.j -1.-0.j  1.+0.j  1.+0.j -1.-0.j  1.+0.j\n",
      "  -1.-0.j -1.-0.j  1.+0.j -1.-0.j  1.+0.j  1.+0.j -1.-0.j]\n",
      " [ 1.+0.j  1.+0.j  1.+0.j  1.+0.j  1.+0.j  1.+0.j  1.+0.j  1.+0.j -1.-0.j\n",
      "  -1.-0.j -1.-0.j -1.-0.j -1.-0.j -1.-0.j -1.-0.j -1.-0.j]\n",
      " [ 1.+0.j -1.-0.j  1.+0.j -1.-0.j  1.+0.j -1.-0.j  1.+0.j -1.-0.j -1.-0.j\n",
      "   1.+0.j -1.-0.j  1.+0.j -1.-0.j  1.+0.j -1.-0.j  1.+0.j]\n",
      " [ 1.+0.j  1.+0.j -1.-0.j -1.-0.j  1.+0.j  1.+0.j -1.-0.j -1.-0.j -1.-0.j\n",
      "  -1.-0.j  1.+0.j  1.+0.j -1.-0.j -1.-0.j  1.+0.j  1.+0.j]\n",
      " [ 1.+0.j -1.-0.j -1.-0.j  1.+0.j  1.+0.j -1.-0.j -1.-0.j  1.+0.j -1.-0.j\n",
      "   1.+0.j  1.+0.j -1.-0.j -1.-0.j  1.+0.j  1.+0.j -1.-0.j]\n",
      " [ 1.+0.j  1.+0.j  1.+0.j  1.+0.j -1.-0.j -1.-0.j -1.-0.j -1.-0.j -1.-0.j\n",
      "  -1.-0.j -1.-0.j -1.-0.j  1.+0.j  1.+0.j  1.+0.j  1.+0.j]\n",
      " [ 1.+0.j -1.-0.j  1.+0.j -1.-0.j -1.-0.j  1.+0.j -1.-0.j  1.+0.j -1.-0.j\n",
      "   1.+0.j -1.-0.j  1.+0.j  1.+0.j -1.-0.j  1.+0.j -1.-0.j]\n",
      " [ 1.+0.j  1.+0.j -1.-0.j -1.-0.j -1.-0.j -1.-0.j  1.+0.j  1.+0.j -1.-0.j\n",
      "  -1.-0.j  1.+0.j  1.+0.j  1.+0.j  1.+0.j -1.-0.j -1.-0.j]\n",
      " [ 1.+0.j -1.-0.j -1.-0.j  1.+0.j -1.-0.j  1.+0.j  1.+0.j -1.-0.j -1.-0.j\n",
      "   1.+0.j  1.+0.j -1.-0.j  1.+0.j -1.-0.j -1.-0.j  1.+0.j]]\n"
     ]
    },
    {
     "ename": "QiskitError",
     "evalue": "'A diagonal entry has not absolute value one.'",
     "output_type": "error",
     "traceback": [
      "\u001b[0;31m---------------------------------------------------------------------------\u001b[0m",
      "\u001b[0;31mQiskitError\u001b[0m                               Traceback (most recent call last)",
      "\u001b[0;32m<ipython-input-225-fbd5bd40a7e5>\u001b[0m in \u001b[0;36m<module>\u001b[0;34m\u001b[0m\n\u001b[1;32m     30\u001b[0m \u001b[0;31m# Apply Haddamard to All\u001b[0m\u001b[0;34m\u001b[0m\u001b[0;34m\u001b[0m\u001b[0;34m\u001b[0m\u001b[0m\n\u001b[1;32m     31\u001b[0m \u001b[0;34m\u001b[0m\u001b[0m\n\u001b[0;32m---> 32\u001b[0;31m \u001b[0mqc\u001b[0m\u001b[0;34m.\u001b[0m\u001b[0mdiagonal\u001b[0m\u001b[0;34m(\u001b[0m\u001b[0mnp\u001b[0m\u001b[0;34m.\u001b[0m\u001b[0mdiag\u001b[0m\u001b[0;34m(\u001b[0m\u001b[0mHUH\u001b[0m\u001b[0;34m)\u001b[0m\u001b[0;34m.\u001b[0m\u001b[0mtolist\u001b[0m\u001b[0;34m(\u001b[0m\u001b[0;34m)\u001b[0m\u001b[0;34m,\u001b[0m\u001b[0;34m[\u001b[0m\u001b[0;36m0\u001b[0m\u001b[0;34m,\u001b[0m\u001b[0;36m1\u001b[0m\u001b[0;34m,\u001b[0m\u001b[0;36m2\u001b[0m\u001b[0;34m,\u001b[0m\u001b[0;36m3\u001b[0m\u001b[0;34m]\u001b[0m\u001b[0;34m)\u001b[0m\u001b[0;34m\u001b[0m\u001b[0;34m\u001b[0m\u001b[0m\n\u001b[0m\u001b[1;32m     33\u001b[0m \u001b[0;34m\u001b[0m\u001b[0m\n\u001b[1;32m     34\u001b[0m \u001b[0;34m\u001b[0m\u001b[0m\n",
      "\u001b[0;32m/opt/conda/lib/python3.7/site-packages/qiskit/extensions/quantum_initializer/diagonal.py\u001b[0m in \u001b[0;36mdiagonal\u001b[0;34m(self, diag, qubit)\u001b[0m\n\u001b[1;32m    148\u001b[0m         raise QiskitError(\"The number of diagonal entries does not correspond to\"\n\u001b[1;32m    149\u001b[0m                           \" the number of qubits.\")\n\u001b[0;32m--> 150\u001b[0;31m     \u001b[0;32mreturn\u001b[0m \u001b[0mself\u001b[0m\u001b[0;34m.\u001b[0m\u001b[0mappend\u001b[0m\u001b[0;34m(\u001b[0m\u001b[0mDiagonalGate\u001b[0m\u001b[0;34m(\u001b[0m\u001b[0mdiag\u001b[0m\u001b[0;34m)\u001b[0m\u001b[0;34m,\u001b[0m \u001b[0mqubit\u001b[0m\u001b[0;34m)\u001b[0m\u001b[0;34m\u001b[0m\u001b[0;34m\u001b[0m\u001b[0m\n\u001b[0m\u001b[1;32m    151\u001b[0m \u001b[0;34m\u001b[0m\u001b[0m\n\u001b[1;32m    152\u001b[0m \u001b[0;34m\u001b[0m\u001b[0m\n",
      "\u001b[0;32m/opt/conda/lib/python3.7/site-packages/qiskit/extensions/quantum_initializer/diagonal.py\u001b[0m in \u001b[0;36m__init__\u001b[0;34m(self, diag)\u001b[0m\n\u001b[1;32m     68\u001b[0m                                   \"complex numbers.\")\n\u001b[1;32m     69\u001b[0m             \u001b[0;32mif\u001b[0m \u001b[0;32mnot\u001b[0m \u001b[0mnp\u001b[0m\u001b[0;34m.\u001b[0m\u001b[0mabs\u001b[0m\u001b[0;34m(\u001b[0m\u001b[0mz\u001b[0m\u001b[0;34m)\u001b[0m \u001b[0;34m-\u001b[0m \u001b[0;36m1\u001b[0m \u001b[0;34m<\u001b[0m \u001b[0m_EPS\u001b[0m\u001b[0;34m:\u001b[0m\u001b[0;34m\u001b[0m\u001b[0;34m\u001b[0m\u001b[0m\n\u001b[0;32m---> 70\u001b[0;31m                 \u001b[0;32mraise\u001b[0m \u001b[0mQiskitError\u001b[0m\u001b[0;34m(\u001b[0m\u001b[0;34m\"A diagonal entry has not absolute value one.\"\u001b[0m\u001b[0;34m)\u001b[0m\u001b[0;34m\u001b[0m\u001b[0;34m\u001b[0m\u001b[0m\n\u001b[0m\u001b[1;32m     71\u001b[0m         \u001b[0;31m# Create new gate.\u001b[0m\u001b[0;34m\u001b[0m\u001b[0;34m\u001b[0m\u001b[0;34m\u001b[0m\u001b[0m\n\u001b[1;32m     72\u001b[0m         \u001b[0msuper\u001b[0m\u001b[0;34m(\u001b[0m\u001b[0;34m)\u001b[0m\u001b[0;34m.\u001b[0m\u001b[0m__init__\u001b[0m\u001b[0;34m(\u001b[0m\u001b[0;34m\"diagonal\"\u001b[0m\u001b[0;34m,\u001b[0m \u001b[0mint\u001b[0m\u001b[0;34m(\u001b[0m\u001b[0mnum_action_qubits\u001b[0m\u001b[0;34m)\u001b[0m\u001b[0;34m,\u001b[0m \u001b[0mdiag\u001b[0m\u001b[0;34m)\u001b[0m\u001b[0;34m\u001b[0m\u001b[0;34m\u001b[0m\u001b[0m\n",
      "\u001b[0;31mQiskitError\u001b[0m: 'A diagonal entry has not absolute value one.'"
     ]
    }
   ],
   "source": [
    "##### build your quantum circuit here\n",
    "qc = QuantumCircuit(4)\n",
    "# apply operations to your quantum circuit here\n",
    "\n",
    "# Apply Haddamard to All\n",
    "# qc.h(0)\n",
    "# qc.h(1)\n",
    "# qc.h(2)\n",
    "# qc.h(3)\n",
    "\n",
    "\n",
    "qc.u3(pi/2,0,pi,0)\n",
    "qc.u3(pi/2,0,pi,1)\n",
    "qc.u3(pi/2,0,pi,2)\n",
    "qc.u3(pi/2,0,pi,3)\n",
    "\n",
    "H = np.kron(hadamard(2,dtype=complex), hadamard(2,dtype=complex))\n",
    "H = np.kron(hadamard(2,dtype=complex), H)\n",
    "H = np.kron(hadamard(2,dtype=complex), H)\n",
    "\n",
    "print(H)\n",
    "#H = hadamard(16, dtype=complex)/4\n",
    "#UH = np.matmul(U,H)\n",
    "HU = np.matmul(H,U)\n",
    "HUH = np.matmul(HU,H)\n",
    "#qc.iso(HUH, [0,1,2,3],[])\n",
    "#qc.cx(0,1)\n",
    "# qc.cx(1,2)\n",
    "# qc.cx(2,3)\n",
    "# Apply Haddamard to All\n",
    "\n",
    "qc.diagonal(np.diag(HUH).tolist(),[0,1,2,3])\n",
    "\n",
    "\n",
    "qc.u3(pi/2,0,pi,0)\n",
    "qc.u3(pi/2,0,pi,1)\n",
    "qc.u3(pi/2,0,pi,2)\n",
    "qc.u3(pi/2,0,pi,3)\n",
    "\n",
    "\n",
    "\n",
    "#qc.y(0)\n",
    "#qc.cx(0,1)\n",
    "#qc.draw('mpl')\n",
    "\n",
    "\n",
    "qc = transpile(qc, basis_gates=['u3', 'cx'],optimization_level=3)\n",
    "qc.draw('mpl')\n",
    "\n",
    "#print(HU)\n",
    "#HUH = np.matmul(HU, unitary)\n",
    "#print(HU)\n",
    "state = statevec(qc)\n",
    "#print(state)\n",
    "#plot_state_qsphere(state.data, show_state_labels=True, show_state_angles=True) "
   ]
  },
  {
   "cell_type": "code",
   "execution_count": 222,
   "metadata": {
    "scrolled": true
   },
   "outputs": [
    {
     "name": "stdout",
     "output_type": "stream",
     "text": [
      "Circuit stats:\n",
      "||U-V||_2 = 1.99990190501896\n",
      "(U is the reference unitary, V is yours, and the global phase has been removed from both of them).\n",
      "Unable to compute cost: double check your circuit is made of `u3` and `cx` gates only.\n",
      "\n",
      "Something is not right with your circuit: the circuit contains something else than `u3` and `cx` gates\n"
     ]
    }
   ],
   "source": [
    "##### check your quantum circuit by running the next line\n",
    "check_circuit(qc)"
   ]
  },
  {
   "cell_type": "markdown",
   "metadata": {},
   "source": [
    "You can check whether your circuit is valid before submitting it with `check_circuit(qc)`. Once you have a valid solution, please submit it by running the following cell (delete the `#` before `submit_circuit`). You can re-submit at any time.\n"
   ]
  },
  {
   "cell_type": "code",
   "execution_count": 188,
   "metadata": {},
   "outputs": [
    {
     "data": {
      "text/html": [
       "\n",
       "            <p style=\"border: 2px solid black; padding: 2rem;\">\n",
       "                Oops 😕! Your circuit does not seem valid. Use\n",
       "                <code>check_circuit()</code> to validate your circuit before\n",
       "                submitting.\n",
       "            </p>\n",
       "        "
      ],
      "text/plain": [
       "<IPython.core.display.HTML object>"
      ]
     },
     "metadata": {},
     "output_type": "display_data"
    }
   ],
   "source": [
    "# Send the circuit as the final answer, can re-submit at any time\n",
    "submit_circuit(qc) "
   ]
  },
  {
   "cell_type": "code",
   "execution_count": null,
   "metadata": {},
   "outputs": [],
   "source": []
  }
 ],
 "metadata": {
  "kernelspec": {
   "display_name": "Python 3",
   "language": "python",
   "name": "python3"
  },
  "language_info": {
   "codemirror_mode": {
    "name": "ipython",
    "version": 3
   },
   "file_extension": ".py",
   "mimetype": "text/x-python",
   "name": "python",
   "nbconvert_exporter": "python",
   "pygments_lexer": "ipython3",
   "version": "3.7.6"
  }
 },
 "nbformat": 4,
 "nbformat_minor": 4
}
